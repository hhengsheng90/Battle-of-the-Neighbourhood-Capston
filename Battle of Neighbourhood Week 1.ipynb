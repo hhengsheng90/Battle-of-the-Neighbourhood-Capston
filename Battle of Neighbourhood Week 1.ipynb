{
 "cells": [
  {
   "cell_type": "markdown",
   "metadata": {},
   "source": [
    "Battle of the Neighbourhood Capstone Week 1"
   ]
  },
  {
   "cell_type": "markdown",
   "metadata": {},
   "source": [
    "Problem Statement:\n",
    "A new invester is interested in opening a new Chinese Restaurant in the state of New York and is interested to use data science to find the best location in New York. "
   ]
  },
  {
   "cell_type": "markdown",
   "metadata": {},
   "source": [
    "Data:\n",
    "To help provide such insight we will use the demographic information from this wiki link  to understand the demographics breakdown. https://en.wikipedia.org/wiki/Demographics_of_New_York_City\n",
    "\n",
    "We will also use Data source:https://cocl.us/new_york_dataset to see if there are any other competitors nearby that we should avoid.\n",
    "\n",
    "And based on the findings we will make recommendations."
   ]
  },
  {
   "cell_type": "code",
   "execution_count": null,
   "metadata": {},
   "outputs": [],
   "source": []
  }
 ],
 "metadata": {
  "kernelspec": {
   "display_name": "Python 3",
   "language": "python",
   "name": "python3"
  },
  "language_info": {
   "codemirror_mode": {
    "name": "ipython",
    "version": 3
   },
   "file_extension": ".py",
   "mimetype": "text/x-python",
   "name": "python",
   "nbconvert_exporter": "python",
   "pygments_lexer": "ipython3",
   "version": "3.6.11"
  }
 },
 "nbformat": 4,
 "nbformat_minor": 4
}
